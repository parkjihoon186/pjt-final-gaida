{
 "cells": [
  {
   "cell_type": "markdown",
   "id": "a9544751",
   "metadata": {},
   "source": [
    "# langgraph\n",
    "'langgraph.ipynb'"
   ]
  },
  {
   "cell_type": "code",
   "execution_count": 2,
   "id": "a7f99f2d",
   "metadata": {},
   "outputs": [],
   "source": [
    "import os\n",
    "from dotenv import load_dotenv\n",
    "\n",
    "# load_dotenv()\n",
    "# if you are running this in a Jupyter notebook, use this instead:\n",
    "load_dotenv(override=True)\n",
    "\n",
    "from pydantic import BaseModel, Field\n",
    "from langchain_openai import ChatOpenAI\n",
    "from langchain_core.prompts import ChatPromptTemplate\n",
    "from langchain_core.prompts import MessagesPlaceholder\n",
    "from langchain_core.tools import tool\n",
    "\n",
    "# Supabase tool setup - will be used later\n",
    "# from supabase_tool import SupabaseTool\n",
    "# from langchain.agents import AgentExecutor, create_tool_calling_agent\n",
    "# from langchain_community.agent_toolkits import create_conversational_retrieval_agent\n",
    "\n",
    "# 환경 변수 설정\n",
    "os.environ[\"OPENAI_API_KEY\"] = os.getenv(\"OPENAI_API_KEY\")\n"
   ]
  },
  {
   "cell_type": "code",
   "execution_count": null,
   "id": "4eac2153",
   "metadata": {},
   "outputs": [
    {
     "name": "stdout",
     "output_type": "stream",
     "text": [
      "content='Please provide me with your user ID so I can access your workout history.' additional_kwargs={'refusal': None} response_metadata={'token_usage': {'completion_tokens': 16, 'prompt_tokens': 157, 'total_tokens': 173, 'completion_tokens_details': {'accepted_prediction_tokens': 0, 'audio_tokens': 0, 'reasoning_tokens': 0, 'rejected_prediction_tokens': 0}, 'prompt_tokens_details': {'audio_tokens': 0, 'cached_tokens': 0}}, 'model_name': 'gpt-4o-mini-2024-07-18', 'system_fingerprint': 'fp_560af6e559', 'id': 'chatcmpl-CJBlkH4OvjsGJMhC9zH2PTJoRMNt9', 'service_tier': 'default', 'finish_reason': 'stop', 'logprobs': None} id='run--f1fe0116-5647-4694-8b86-0be3be11d875-0' usage_metadata={'input_tokens': 157, 'output_tokens': 16, 'total_tokens': 173, 'input_token_details': {'audio': 0, 'cache_read': 0}, 'output_token_details': {'audio': 0, 'reasoning': 0}}\n"
     ]
    },
    {
     "ename": "",
     "evalue": "",
     "output_type": "error",
     "traceback": [
      "\u001b[1;31mnotebook controller is DISPOSED. \n",
      "\u001b[1;31mView Jupyter <a href='command:jupyter.viewOutput'>log</a> for further details."
     ]
    },
    {
     "ename": "",
     "evalue": "",
     "output_type": "error",
     "traceback": [
      "\u001b[1;31mnotebook controller is DISPOSED. \n",
      "\u001b[1;31mView Jupyter <a href='command:jupyter.viewOutput'>log</a> for further details."
     ]
    }
   ],
   "source": [
    "# 1. LLM 설정\n",
    "# Re Act 에이전트는 도구 호출(tool-calling) 기능을 활용하는 LLM을 사용\n",
    "# OpenAI 모델을 사용하며, 특정 함수를 호출할 수 있도록 설정\n",
    "llm = ChatOpenAI(model=\"gpt-4o-mini\", temperature=0)\n",
    "\n",
    "# 2. Re Act 프롬프트\n",
    "# 에이전트의 시스템 프롬프트를 정의합니다.\n",
    "# Re Act 에이전트가 어떤 역할을 수행하고 어떻게 행동해야 하는지 지시\n",
    "system_prompt = (\n",
    "    \"You are a fitness and diet agent. \"\n",
    "    \"Your main task is to assist the user with their workout and diet plans. \"\n",
    "    \"Use the tools provided to access and manage user data. \"\n",
    "    \"If the user asks about their workout or diet, use the appropriate tools to provide a detailed response. \"\n",
    "    \"If the user's query is not related to fitness or diet, respond politely and inform them of your purpose.\"\n",
    ")\n",
    "\n",
    "# ChatPromptTemplate은 LLM 프롬프트를 구성하는 데 사용됩니다.\n",
    "# 이 템플릿은 시스템 메시지와 사용자 입력, 그리고 도구 호출에 필요한 메시지 플레이스홀더를 포함\n",
    "prompt = ChatPromptTemplate.from_messages(\n",
    "    [\n",
    "        (\"system\", system_prompt),\n",
    "        MessagesPlaceholder(variable_name=\"chat_history\"),\n",
    "        (\"human\", \"{input}\"),\n",
    "        MessagesPlaceholder(variable_name=\"agent_scratchpad\"),\n",
    "    ]\n",
    ")\n",
    "\n",
    "# 3. 도구 정의\n",
    "# 에이전트가 사용할 도구를 정의\n",
    "# 지금은 간단한 더미 도구를 추가. 추후에 Supabase 관련 기능으로 확장 예정\n",
    "@tool\n",
    "def get_workout_history(user_id: str) -> str:\n",
    "    \"\"\"Gets the workout history for a specific user.\"\"\"\n",
    "    # This is a dummy function. It will be replaced with Supabase integration.\n",
    "    return \"You have not recorded any workout history yet.\"\n",
    "\n",
    "@tool\n",
    "def get_nutrition_log(user_id: str) -> str:\n",
    "    \"\"\"Gets the nutrition log for a specific user.\"\"\"\n",
    "    # This is a dummy function. It will be replaced with Supabase integration.\n",
    "    return \"You have not recorded any nutrition log yet.\"\n",
    "\n",
    "tools = [get_workout_history, get_nutrition_log]\n",
    "\n",
    "# 4. LCEL 체인 결합\n",
    "# LLM, 프롬프트, 도구를 결합하여 에이전트의 기본적인 LCEL(LangChain Expression Language) 체인을 구축합니다.\n",
    "# 이 체인은 프롬프트, LLM, 도구의 순서로 구성되어, 사용자의 입력이 들어오면 프롬프트에 따라 LLM이 추론하고, 필요시 도구를 호출\n",
    "agent = prompt | llm.bind_tools(tools)\n",
    "\n",
    "# 5. 테스트\n",
    "# 테스트용 입력\n",
    "input_text = \"What is my workout history?\"\n",
    "\n",
    "# 에이전트 실행\n",
    "# agent_scratchpad를 빈 리스트로 추가하여 전달\n",
    "output = agent.invoke({\n",
    "    \"input\": input_text, \n",
    "    \"chat_history\": [], \n",
    "    \"agent_scratchpad\": [] \n",
    "})\n",
    "\n",
    "# 결과 출력\n",
    "print(output)"
   ]
  },
  {
   "cell_type": "code",
   "execution_count": null,
   "id": "fbd7b1e0",
   "metadata": {},
   "outputs": [
    {
     "name": "stdout",
     "output_type": "stream",
     "text": [
      "/Users/jaehyuntak/Desktop/project_at25-09-15/pjt-final-gaida/langgraph-agent\n"
     ]
    },
    {
     "ename": "",
     "evalue": "",
     "output_type": "error",
     "traceback": [
      "\u001b[1;31mnotebook controller is DISPOSED. \n",
      "\u001b[1;31mView Jupyter <a href='command:jupyter.viewOutput'>log</a> for further details."
     ]
    },
    {
     "ename": "",
     "evalue": "",
     "output_type": "error",
     "traceback": [
      "\u001b[1;31mnotebook controller is DISPOSED. \n",
      "\u001b[1;31mView Jupyter <a href='command:jupyter.viewOutput'>log</a> for further details."
     ]
    }
   ],
   "source": [
    "import os\n",
    "# 현재 작업 디렉토리 확인\n",
    "print(os.getcwd())"
   ]
  },
  {
   "cell_type": "code",
   "execution_count": null,
   "id": "371ce515",
   "metadata": {},
   "outputs": [
    {
     "ename": "ImportError",
     "evalue": "cannot import name 'State' from 'state' (/Users/jaehyuntak/Desktop/project_at25-09-15/pjt-final-gaida/langgraph-agent/state.py)",
     "output_type": "error",
     "traceback": [
      "\u001b[31m---------------------------------------------------------------------------\u001b[39m",
      "\u001b[31mImportError\u001b[39m                               Traceback (most recent call last)",
      "\u001b[36mCell\u001b[39m\u001b[36m \u001b[39m\u001b[32mIn[22]\u001b[39m\u001b[32m, line 16\u001b[39m\n\u001b[32m     13\u001b[39m module_path = \u001b[33m'\u001b[39m\u001b[33m/Users/jaehyuntak/Desktop/project_at25-09-15/pjt-final-gaida/langgraph-agent/\u001b[39m\u001b[33m'\u001b[39m\n\u001b[32m     14\u001b[39m sys.path.append(module_path)\n\u001b[32m---> \u001b[39m\u001b[32m16\u001b[39m \u001b[38;5;28;01mfrom\u001b[39;00m\u001b[38;5;250m \u001b[39m\u001b[34;01mstate\u001b[39;00m\u001b[38;5;250m \u001b[39m\u001b[38;5;28;01mimport\u001b[39;00m State \u001b[38;5;66;03m# langgraph.ipynb 파일 상단에 state.py에서 import\u001b[39;00m\n\u001b[32m     18\u001b[39m \u001b[38;5;66;03m# 2. 도구 정의\u001b[39;00m\n\u001b[32m     19\u001b[39m \u001b[38;5;66;03m# 이제 직접 만든 Supabase 도구들을 사용합니다.\u001b[39;00m\n\u001b[32m     20\u001b[39m tools = [get_workout_history, add_workout_session]\n",
      "\u001b[31mImportError\u001b[39m: cannot import name 'State' from 'state' (/Users/jaehyuntak/Desktop/project_at25-09-15/pjt-final-gaida/langgraph-agent/state.py)"
     ]
    },
    {
     "ename": "",
     "evalue": "",
     "output_type": "error",
     "traceback": [
      "\u001b[1;31mnotebook controller is DISPOSED. \n",
      "\u001b[1;31mView Jupyter <a href='command:jupyter.viewOutput'>log</a> for further details."
     ]
    },
    {
     "ename": "",
     "evalue": "",
     "output_type": "error",
     "traceback": [
      "\u001b[1;31mnotebook controller is DISPOSED. \n",
      "\u001b[1;31mView Jupyter <a href='command:jupyter.viewOutput'>log</a> for further details."
     ]
    }
   ],
   "source": [
    "# langgraph.ipynb\n",
    "# 기존 코드에 다음 부분을 추가하거나 수정합니다.\n",
    "\n",
    "# 1. 필요한 모듈 임포트\n",
    "# 기존 @tool로 정의된 더미 함수 대신,\n",
    "# 이제 supabase_tools.py 파일에서 실제 도구들을 가져옵니다.\n",
    "from supabase_tools import get_workout_history, add_workout_session\n",
    "from langchain_core.agents import AgentFinish\n",
    "from langgraph.graph import StateGraph\n",
    "import operator\n",
    "\n",
    "import sys\n",
    "module_path = '/Users/jaehyuntak/Desktop/project_at25-09-15/pjt-final-gaida/langgraph-agent/'\n",
    "sys.path.append(module_path)\n",
    "\n",
    "from state import State # langgraph.ipynb 파일 상단에 state.py에서 import\n",
    "\n",
    "# 2. 도구 정의\n",
    "# 이제 직접 만든 Supabase 도구들을 사용합니다.\n",
    "tools = [get_workout_history, add_workout_session]\n",
    "\n",
    "# 3. Agent Executor 생성 (새로운 부분)\n",
    "from langchain.agents import AgentExecutor, create_tool_calling_agent\n",
    "# Agent Executor는 에이전트의 '추론'과 '도구 호출' 과정을 관리합니다.\n",
    "# create_tool_calling_agent 함수는 LLM, 도구, 프롬프트를 결합하여 에이전트를 만듭니다.\n",
    "agent_executor = create_tool_calling_agent(llm, tools, prompt)\n",
    "\n",
    "# 4. Agent Graph 정의 (새로운 부분)\n",
    "# LangGraph를 사용하여 에이전트의 상태와 흐름을 정의합니다.\n",
    "workflow = StateGraph(State)\n",
    "\n",
    "# 5. Graph에 노드 추가\n",
    "# 노드 정의: 에이전트 추론 노드와 도구 호출 노드를 정의합니다.\n",
    "def run_agent(state: State):\n",
    "    \"\"\"Agent node: responsible for making a decision.\"\"\"\n",
    "    # 에이전트 실행\n",
    "    return {\"agent_outcome\": agent_executor.invoke(state)}\n",
    "\n",
    "def run_tools(state: State):\n",
    "    \"\"\"Tool node: responsible for executing tools.\"\"\"\n",
    "    tool_input = state[\"agent_outcome\"].tool_input\n",
    "    # 이 부분은 실제 tool 실행 로직으로 대체됩니다.\n",
    "    # 지금은 임시로 더미 함수를 사용합니다.\n",
    "    if state[\"agent_outcome\"].tool == \"get_workout_history\":\n",
    "        result = get_workout_history.invoke({\"user_id\": tool_input[\"user_id\"]})\n",
    "    elif state[\"agent_outcome\"].tool == \"add_workout_session\":\n",
    "        result = add_workout_session.invoke(tool_input)\n",
    "    else:\n",
    "        result = f\"Unknown tool: {state['agent_outcome'].tool}\"\n",
    "    \n",
    "    # 실행 결과를 상태에 저장합니다.\n",
    "    return {\"result\": result}\n",
    "\n",
    "\n",
    "workflow.add_node(\"agent\", run_agent)\n",
    "workflow.add_node(\"tools\", run_tools)\n",
    "\n",
    "# 6. Graph에 엣지 추가\n",
    "# 엣지 정의: 에이전트의 다음 단계를 결정하는 조건부 로직을 추가합니다.\n",
    "def should_continue(state):\n",
    "    \"\"\"Determines which node to run next.\"\"\"\n",
    "    if isinstance(state[\"agent_outcome\"], AgentFinish):\n",
    "        return \"end\"\n",
    "    else:\n",
    "        return \"tools\"\n",
    "\n",
    "workflow.add_conditional_edges(\n",
    "    \"agent\",\n",
    "    should_continue,\n",
    "    {\n",
    "        \"end\": \"end\",\n",
    "        \"tools\": \"tools\",\n",
    "    },\n",
    ")\n",
    "workflow.add_edge(\"tools\", \"agent\")\n",
    "\n",
    "workflow.set_entry_point(\"agent\")\n",
    "\n",
    "app = workflow.compile()\n",
    "\n",
    "# 7. 실행 테스트\n",
    "# 이제 실제 Supabase 도구를 사용하는 에이전트 그래프를 실행할 수 있습니다.\n",
    "# (이 부분은 사용자 입력과 데이터베이스 연결에 따라 달라집니다.)\n",
    "input_data = {\"input\": \"What is my workout history? My user ID is 'test-user-123'\", \"chat_history\": []}\n",
    "result = app.invoke(input_data)\n",
    "print(result)"
   ]
  }
 ],
 "metadata": {
  "kernelspec": {
   "display_name": ".venv",
   "language": "python",
   "name": "python3"
  },
  "language_info": {
   "codemirror_mode": {
    "name": "ipython",
    "version": 3
   },
   "file_extension": ".py",
   "mimetype": "text/x-python",
   "name": "python",
   "nbconvert_exporter": "python",
   "pygments_lexer": "ipython3",
   "version": "3.13.6"
  }
 },
 "nbformat": 4,
 "nbformat_minor": 5
}
